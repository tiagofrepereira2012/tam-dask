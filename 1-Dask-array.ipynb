{
 "cells": [
  {
   "cell_type": "markdown",
   "metadata": {},
   "source": [
    "# Array\n",
    "\n",
    "Dask array provides a parallel, larger-than-memory, n-dimensional array using blocked algorithms. \n",
    "\n",
    "**DISTRIBUTED Numpy**.\n",
    "\n",
    "\n",
    "![](images/dask_array.png)"
   ]
  },
  {
   "cell_type": "code",
   "execution_count": 1,
   "metadata": {},
   "outputs": [
    {
     "data": {
      "text/html": [
       "<table>\n",
       "    <tr>\n",
       "        <td>\n",
       "            <table>\n",
       "                <thead>\n",
       "                    <tr>\n",
       "                        <td> </td>\n",
       "                        <th> Array </th>\n",
       "                        <th> Chunk </th>\n",
       "                    </tr>\n",
       "                </thead>\n",
       "                <tbody>\n",
       "                    \n",
       "                    <tr>\n",
       "                        <th> Bytes </th>\n",
       "                        <td> 240 B </td>\n",
       "                        <td> 240 B </td>\n",
       "                    </tr>\n",
       "                    \n",
       "                    <tr>\n",
       "                        <th> Shape </th>\n",
       "                        <td> (30,) </td>\n",
       "                        <td> (30,) </td>\n",
       "                    </tr>\n",
       "                    <tr>\n",
       "                        <th> Count </th>\n",
       "                        <td> 48 Tasks </td>\n",
       "                        <td> 1 Chunks </td>\n",
       "                    </tr>\n",
       "                    <tr>\n",
       "                    <th> Type </th>\n",
       "                    <td> float64 </td>\n",
       "                    <td> numpy.ndarray </td>\n",
       "                    </tr>\n",
       "                </tbody>\n",
       "            </table>\n",
       "        </td>\n",
       "        <td>\n",
       "        <svg width=\"170\" height=\"82\" style=\"stroke:rgb(0,0,0);stroke-width:1\" >\n",
       "\n",
       "  <!-- Horizontal lines -->\n",
       "  <line x1=\"0\" y1=\"0\" x2=\"120\" y2=\"0\" style=\"stroke-width:2\" />\n",
       "  <line x1=\"0\" y1=\"32\" x2=\"120\" y2=\"32\" style=\"stroke-width:2\" />\n",
       "\n",
       "  <!-- Vertical lines -->\n",
       "  <line x1=\"0\" y1=\"0\" x2=\"0\" y2=\"32\" style=\"stroke-width:2\" />\n",
       "  <line x1=\"120\" y1=\"0\" x2=\"120\" y2=\"32\" style=\"stroke-width:2\" />\n",
       "\n",
       "  <!-- Colored Rectangle -->\n",
       "  <polygon points=\"0.0,0.0 120.0,0.0 120.0,32.02435249410096 0.0,32.02435249410096\" style=\"fill:#ECB172A0;stroke-width:0\"/>\n",
       "\n",
       "  <!-- Text -->\n",
       "  <text x=\"60.000000\" y=\"52.024352\" font-size=\"1.0rem\" font-weight=\"100\" text-anchor=\"middle\" >30</text>\n",
       "  <text x=\"140.000000\" y=\"16.012176\" font-size=\"1.0rem\" font-weight=\"100\" text-anchor=\"middle\" transform=\"rotate(0,140.000000,16.012176)\">1</text>\n",
       "</svg>\n",
       "        </td>\n",
       "    </tr>\n",
       "</table>"
      ],
      "text/plain": [
       "dask.array<mean_agg-aggregate, shape=(30,), dtype=float64, chunksize=(30,), chunktype=numpy.ndarray>"
      ]
     },
     "execution_count": 1,
     "metadata": {},
     "output_type": "execute_result"
    }
   ],
   "source": [
    "import numpy as np\n",
    "import dask.array as da\n",
    "\n",
    "#x = da.random.normal(0, 1, size=(15, 10),   \n",
    "#                              chunks=(5, 10))\n",
    "\n",
    "x = da.random.normal(0, 1, size=(200000, 30),   # 600 million element array \n",
    "                              chunks=(10000, 30))   \n",
    "\n",
    "y = x.mean(axis=0)\n",
    "y"
   ]
  },
  {
   "cell_type": "code",
   "execution_count": 2,
   "metadata": {},
   "outputs": [
    {
     "name": "stderr",
     "output_type": "stream",
     "text": [
      "/idiap/user/tpereira/conda/envs/tam-dask/lib/python3.9/site-packages/dask_jobqueue/core.py:20: FutureWarning: tmpfile is deprecated and will be removed in a future release. Please use dask.utils.tmpfile instead.\n",
      "  from distributed.utils import tmpfile\n"
     ]
    }
   ],
   "source": [
    "# Local client\n",
    "from dask.distributed import Client\n",
    "n_workers = 10\n",
    "\n",
    "# ON OUR SGE\n",
    "def scale_to_sge(n_workers):\n",
    "    queue=\"q_1day\"\n",
    "    queue_resource_spec=\"q_1day=TRUE\"\n",
    "    memory=\"4GB\"\n",
    "    sge_log= \"./logs\"\n",
    "    from dask_jobqueue import SGECluster\n",
    "    cluster = SGECluster(queue=queue, memory=memory, cores=1, processes=1,\n",
    "              log_directory=sge_log,\n",
    "              local_directory=sge_log,\n",
    "              resource_spec=queue_resource_spec,\n",
    "              project=\"citerus\"\n",
    "              )\n",
    "    cluster.scale_up(n_workers)\n",
    "    return Client(cluster)  # start local workers as threads\n",
    "\n",
    "\n",
    "#### SWITH THIS IF YOU WANT TO RUN LOCALLY OR IN OUR SGE GRID ###\n",
    "\n",
    "# Local client\n",
    "#client = Client(n_workers=n_workers)\n",
    "\n",
    "# SGE client\n",
    "client = scale_to_sge(n_workers)\n",
    "\n"
   ]
  },
  {
   "cell_type": "code",
   "execution_count": 3,
   "metadata": {},
   "outputs": [
    {
     "name": "stdout",
     "output_type": "stream",
     "text": [
      "CPU times: user 886 ms, sys: 137 ms, total: 1.02 s\n",
      "Wall time: 31.9 s\n"
     ]
    },
    {
     "data": {
      "text/plain": [
       "array([ 2.33540356e-04,  4.96083933e-03,  8.06376144e-04,  5.14930159e-03,\n",
       "       -8.89413544e-04,  5.56987289e-03, -5.14368837e-03,  1.55397391e-04,\n",
       "       -6.08657122e-05,  1.51943612e-03,  5.11754464e-03,  3.28856620e-04,\n",
       "        2.36708089e-03,  6.46353900e-04, -6.78811541e-04,  7.84611776e-04,\n",
       "       -4.19538118e-03,  2.05811237e-03,  1.67990270e-03,  3.00970616e-03,\n",
       "       -1.56402536e-05, -2.30860267e-03,  8.39258455e-04, -9.99563672e-04,\n",
       "        2.13249776e-03, -2.20975935e-03,  2.24765075e-03,  1.35787434e-03,\n",
       "       -3.00034155e-03, -3.44463608e-03])"
      ]
     },
     "execution_count": 3,
     "metadata": {},
     "output_type": "execute_result"
    }
   ],
   "source": [
    "%%time\n",
    "y.compute(scheduler=client)"
   ]
  },
  {
   "cell_type": "markdown",
   "metadata": {},
   "source": [
    "# Several linear algebra functions already implemented in parallel.\n",
    "\n",
    "For instance, follow below one example with SVD\n",
    "\n",
    "N. Halko, P. G. Martinsson, and J. A. Tropp. Finding structure with randomness: Probabilistic algorithms for constructing approximate matrix decompositions. SIAM Rev., Survey and Review section, Vol. 53, num. 2, pp. 217-288, June 2011\n"
   ]
  },
  {
   "cell_type": "code",
   "execution_count": 4,
   "metadata": {},
   "outputs": [
    {
     "name": "stdout",
     "output_type": "stream",
     "text": [
      "CPU times: user 764 ms, sys: 74.6 ms, total: 838 ms\n",
      "Wall time: 10.1 s\n"
     ]
    },
    {
     "data": {
      "text/plain": [
       "array([[ 1.04177697e-03, -2.40558964e-03,  1.06736682e-03,\n",
       "         1.04458946e-03, -1.29048870e-03],\n",
       "       [-1.01316822e-03,  2.01564861e-03, -1.37524736e-03,\n",
       "         2.11226029e-03, -8.50848466e-04],\n",
       "       [ 5.51829730e-04,  1.74482021e-03, -3.39125324e-05,\n",
       "        -4.57938207e-04,  6.55159557e-04],\n",
       "       ...,\n",
       "       [-6.47950600e-04, -1.23414421e-03,  2.57047747e-03,\n",
       "         5.55124988e-03,  2.74121770e-03],\n",
       "       [ 2.08634666e-03, -5.49839055e-04,  1.48122535e-03,\n",
       "        -1.96453590e-03, -1.92897719e-03],\n",
       "       [-2.85356778e-03,  5.02331035e-04, -1.99078897e-03,\n",
       "         7.49319567e-04,  2.74342588e-03]])"
      ]
     },
     "execution_count": 4,
     "metadata": {},
     "output_type": "execute_result"
    }
   ],
   "source": [
    "%%time\n",
    "u, s, v = da.linalg.svd_compressed(x, k=5)\n",
    "u.compute(scheduler=client)"
   ]
  },
  {
   "cell_type": "markdown",
   "metadata": {},
   "source": [
    "# Always shutdown your client"
   ]
  },
  {
   "cell_type": "code",
   "execution_count": 5,
   "metadata": {},
   "outputs": [
    {
     "name": "stderr",
     "output_type": "stream",
     "text": [
      "distributed.client - ERROR - Failed to reconnect to scheduler after 30.00 seconds, closing client\n"
     ]
    }
   ],
   "source": [
    "client.shutdown()"
   ]
  },
  {
   "cell_type": "markdown",
   "metadata": {},
   "source": [
    "# Most of numpy API is there\n",
    "\n",
    "Check it out [dask array](https://docs.dask.org/en/latest/array.html).."
   ]
  },
  {
   "cell_type": "code",
   "execution_count": null,
   "metadata": {},
   "outputs": [],
   "source": []
  }
 ],
 "metadata": {
  "kernelspec": {
   "display_name": "Python 3 (ipykernel)",
   "language": "python",
   "name": "python3"
  },
  "language_info": {
   "codemirror_mode": {
    "name": "ipython",
    "version": 3
   },
   "file_extension": ".py",
   "mimetype": "text/x-python",
   "name": "python",
   "nbconvert_exporter": "python",
   "pygments_lexer": "ipython3",
   "version": "3.9.0"
  }
 },
 "nbformat": 4,
 "nbformat_minor": 4
}
