{
 "cells": [
  {
   "cell_type": "markdown",
   "metadata": {},
   "source": [
    "# Array\n",
    "\n",
    "Dask array provides a parallel, larger-than-memory, n-dimensional array using blocked algorithms. \n",
    "\n",
    "**DISTRIBUTED Numpy**.\n",
    "\n",
    "\n",
    "![](images/dask_array.png)"
   ]
  },
  {
   "cell_type": "code",
   "execution_count": null,
   "metadata": {},
   "outputs": [],
   "source": [
    "import numpy as np\n",
    "import dask.array as da\n",
    "\n",
    "#x = da.random.normal(0, 1, size=(15, 10),   \n",
    "#                              chunks=(5, 10))\n",
    "\n",
    "x = da.random.normal(0, 1, size=(20000000, 30),   # 600 million element array \n",
    "                              chunks=(10000, 30))   \n",
    "\n",
    "y = x.mean(axis=0)\n",
    "y"
   ]
  },
  {
   "cell_type": "code",
   "execution_count": null,
   "metadata": {},
   "outputs": [],
   "source": [
    "# Local client\n",
    "from dask.distributed import Client\n",
    "n_workers = 10\n",
    "\n",
    "# ON OUR SGE\n",
    "def scale_to_sge(n_workers):\n",
    "    queue=\"q_1day\"\n",
    "    queue_resource_spec=\"q_1day=TRUE\"\n",
    "    memory=\"4GB\"\n",
    "    sge_log= \"./logs\"\n",
    "    from dask_jobqueue import SGECluster\n",
    "    cluster = SGECluster(queue=queue, memory=memory, cores=1, processes=1,\n",
    "              log_directory=sge_log,\n",
    "              local_directory=sge_log,\n",
    "              resource_spec=queue_resource_spec\n",
    "              )\n",
    "    cluster.scale_up(n_workers)\n",
    "    return Client(cluster)  # start local workers as threads\n",
    "\n",
    "\n",
    "#### SWITH THIS IF YOU WANT TO RUN LOCALLY OR IN OUR SGE GRID ###\n",
    "\n",
    "# Local client\n",
    "#client = Client(n_workers=n_workers)\n",
    "\n",
    "# SGE client\n",
    "client = scale_to_sge(n_workers)\n",
    "\n"
   ]
  },
  {
   "cell_type": "code",
   "execution_count": null,
   "metadata": {},
   "outputs": [],
   "source": [
    "%%time\n",
    "y.compute(scheduler=client)"
   ]
  },
  {
   "cell_type": "markdown",
   "metadata": {},
   "source": [
    "# Several linear algebra functions already implemented in parallel.\n",
    "\n",
    "For instance, follow below one example with SVD\n",
    "\n",
    "N. Halko, P. G. Martinsson, and J. A. Tropp. Finding structure with randomness: Probabilistic algorithms for constructing approximate matrix decompositions. SIAM Rev., Survey and Review section, Vol. 53, num. 2, pp. 217-288, June 2011\n"
   ]
  },
  {
   "cell_type": "code",
   "execution_count": null,
   "metadata": {},
   "outputs": [],
   "source": [
    "%%time\n",
    "u, s, v = da.linalg.svd_compressed(x, k=5)\n",
    "u.compute(scheduler=client)"
   ]
  },
  {
   "cell_type": "markdown",
   "metadata": {},
   "source": [
    "# Always shutdown your client"
   ]
  },
  {
   "cell_type": "code",
   "execution_count": null,
   "metadata": {},
   "outputs": [],
   "source": [
    "client.shutdown()"
   ]
  },
  {
   "cell_type": "markdown",
   "metadata": {},
   "source": [
    "# Most of numpy API is there\n",
    "\n",
    "Check it out [dask array](https://docs.dask.org/en/latest/array.html).."
   ]
  },
  {
   "cell_type": "code",
   "execution_count": null,
   "metadata": {},
   "outputs": [],
   "source": []
  }
 ],
 "metadata": {
  "kernelspec": {
   "display_name": "Python 3",
   "language": "python",
   "name": "python3"
  },
  "language_info": {
   "codemirror_mode": {
    "name": "ipython",
    "version": 3
   },
   "file_extension": ".py",
   "mimetype": "text/x-python",
   "name": "python",
   "nbconvert_exporter": "python",
   "pygments_lexer": "ipython3",
   "version": "3.7.6"
  }
 },
 "nbformat": 4,
 "nbformat_minor": 4
}
