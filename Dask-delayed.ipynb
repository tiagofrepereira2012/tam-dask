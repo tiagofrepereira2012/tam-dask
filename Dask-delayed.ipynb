{
 "cells": [
  {
   "cell_type": "markdown",
   "metadata": {},
   "source": [
    "# Dask delay\n",
    "\n",
    "Not everything reduces to what is inside numpy (dask array API).\n",
    "\n",
    "Dask delayed allows you to:\n",
    "  1. Make custom graphs with regular python code\n",
    "  2. Scale them up to heterogeneous clusters\n",
    "\n",
    "Let's setup the same infrastructure as before"
   ]
  },
  {
   "cell_type": "code",
   "execution_count": null,
   "metadata": {},
   "outputs": [],
   "source": [
    "# Local client\n",
    "from dask import delayed\n",
    "from dask.distributed import Client\n",
    "n_workers = 5\n",
    "\n",
    "def scale_to_sge(n_workers):\n",
    "    queue=\"q_1day\"\n",
    "    queue_resource_spec=\"q_1day=TRUE\"\n",
    "    memory=\"4GB\"\n",
    "    sge_log= \"./logs\"\n",
    "    from dask_jobqueue import SGECluster\n",
    "    cluster = SGECluster(queue=queue, memory=memory, cores=1, processes=1,\n",
    "              log_directory=sge_log,\n",
    "              local_directory=sge_log,\n",
    "              resource_spec=queue_resource_spec\n",
    "              )\n",
    "    cluster.scale_up(n_workers)\n",
    "    return Client(cluster)  # start local workers as threads\n",
    "\n",
    "\n",
    "#### SWITH THIS IF YOU WANT TO RUN LOCALLY OR IN OUR SGE GRID ###\n",
    "\n",
    "# Local client\n",
    "client = Client(n_workers=n_workers)\n",
    "\n",
    "# SGE client\n",
    "#client = scale_to_sge(n_workers)\n",
    "\n",
    "\n"
   ]
  },
  {
   "cell_type": "code",
   "execution_count": null,
   "metadata": {},
   "outputs": [],
   "source": [
    "from time import sleep\n",
    "\n",
    "\n",
    "def inc(x):\n",
    "    sleep(0.5)\n",
    "    return x + 1\n",
    "\n",
    "def add(x, y):\n",
    "    sleep(0.5)\n",
    "    return x + y\n",
    "\n",
    "x = inc(1)\n",
    "y = inc(2)\n",
    "z = add(x, y)\n",
    "z"
   ]
  },
  {
   "cell_type": "markdown",
   "metadata": {},
   "source": [
    "# Parallelization\n",
    "\n",
    "Thinks can get more complex.\n",
    "We can parallelize and distribute for loops\n",
    "\n"
   ]
  },
  {
   "cell_type": "code",
   "execution_count": null,
   "metadata": {},
   "outputs": [],
   "source": [
    "%%time\n",
    "data = range(10)\n",
    "\n",
    "results = []\n",
    "for x in data:\n",
    "    y = delayed(inc)(x)\n",
    "    y = delayed(add)(y, y)\n",
    "    results.append(y)\n",
    "    \n",
    "total = delayed(sum)(results)\n",
    "#total\n",
    "total.compute(scheduler=client)"
   ]
  },
  {
   "cell_type": "code",
   "execution_count": null,
   "metadata": {},
   "outputs": [],
   "source": [
    "total.visualize()"
   ]
  },
  {
   "cell_type": "code",
   "execution_count": null,
   "metadata": {},
   "outputs": [],
   "source": [
    "client.shutdown()"
   ]
  },
  {
   "cell_type": "code",
   "execution_count": null,
   "metadata": {},
   "outputs": [],
   "source": []
  }
 ],
 "metadata": {
  "kernelspec": {
   "display_name": "Python 3",
   "language": "python",
   "name": "python3"
  },
  "language_info": {
   "codemirror_mode": {
    "name": "ipython",
    "version": 3
   },
   "file_extension": ".py",
   "mimetype": "text/x-python",
   "name": "python",
   "nbconvert_exporter": "python",
   "pygments_lexer": "ipython3",
   "version": "3.7.6"
  }
 },
 "nbformat": 4,
 "nbformat_minor": 4
}
